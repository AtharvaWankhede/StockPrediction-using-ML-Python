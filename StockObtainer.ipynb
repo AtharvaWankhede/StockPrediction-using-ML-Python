{
  "nbformat": 4,
  "nbformat_minor": 0,
  "metadata": {
    "kernelspec": {
      "display_name": "Python 3",
      "language": "python",
      "name": "python3"
    },
    "language_info": {
      "codemirror_mode": {
        "name": "ipython",
        "version": 3
      },
      "file_extension": ".py",
      "mimetype": "text/x-python",
      "name": "python",
      "nbconvert_exporter": "python",
      "pygments_lexer": "ipython3",
      "version": "3.8.3"
    },
    "colab": {
      "name": "Untitled3-Copy4.ipynb",
      "provenance": []
    }
  },
  "cells": [
    {
      "cell_type": "code",
      "metadata": {
        "id": "Ey3rZbOPLv1X",
        "outputId": "fb6351f8-c5be-4207-815c-beea9996baef"
      },
      "source": [
        "import time \n",
        "import csv\n",
        "from pprint import pprint \n",
        "from nsetools import Nse\n",
        "nse = Nse()\n",
        "\n",
        "HEADER = ['Infosys', 'Wipro','TATA MOTORS','BAJAJ FINANCE','BANK OF INDIA','BIRLA','BOSCH','HDFC']\n",
        "with open('results.csv', 'w') as csvfile:\n",
        "    csv_writer = csv.writer(csvfile)\n",
        "    csv_writer.writerow(HEADER)\n",
        "    while True:\n",
        "        w=nse.getquo\n",
        "        q = nse.get_quote('infy')\n",
        "        a=(q['averagePrice'])\n",
        "        print('Infosys',a)\n",
        "        q1 = nse.get_quote('WIPRO')\n",
        "        a1=(q1['averagePrice'])\n",
        "        print(\"WIPRO\",a1)\n",
        "        q2 = nse.get_quote('TATAMOTORS')\n",
        "        a2=(q2['averagePrice'])\n",
        "        print(\"TATA MOTORS\",a2)\n",
        "        q3 = nse.get_quote('BAJFINANCE')\n",
        "        a3=(q3['averagePrice'])\n",
        "        print(\"BAJAJ FINANCE\",a3)\n",
        "        q4 = nse.get_quote('BANKINDIA')\n",
        "        a4=(q4['averagePrice'])\n",
        "        print(\"BOI\",a4)\n",
        "        q5 = nse.get_quote('BIRLACORPN')\n",
        "        a5=(q5['averagePrice'])\n",
        "        print(\"BIRLA co-operation\",a5)\n",
        "        q6 = nse.get_quote('BPCL')\n",
        "        a6=(q6['averagePrice'])\n",
        "        print(\"Bharat Petrolium\",a6)\n",
        "        q7 = nse.get_quote('BOSCHLTD')\n",
        "        a7=(q7['averagePrice'])\n",
        "        print(\"BOSCH pvt limited\",a7)\n",
        "        q8 = nse.get_quote('HDFCBANK')\n",
        "        a8=(q8['averagePrice'])\n",
        "        print(\"HDFC bank\",a8)\n",
        "\n",
        "        def processing_loop(csvfile):\n",
        "            \n",
        "            csv_writer.writerow([a,a1,a2,a3,a4,a5,a6,a7,a8])\n",
        "            csvfile.flush()\n",
        "\n",
        "\n",
        "\n",
        "        processing_loop(csvfile) \n",
        "        time.sleep(3)"
      ],
      "execution_count": null,
      "outputs": [
        {
          "name": "stdout",
          "output_type": "stream",
          "text": [
            "Infosys 1344.64\n",
            "WIPRO 445.21\n",
            "TATA MOTORS 296.37\n",
            "BAJAJ FINANCE 5052.82\n",
            "BOI 51.92\n",
            "BIRLA co-operation 717.66\n",
            "Bharat Petrolium 403.11\n",
            "BOSCH pvt limited 16095.71\n",
            "HDFC bank 1454.4\n",
            "Infosys 1344.64\n",
            "WIPRO 445.21\n",
            "TATA MOTORS 296.37\n",
            "BAJAJ FINANCE 5052.82\n",
            "BOI 51.92\n",
            "BIRLA co-operation 717.66\n",
            "Bharat Petrolium 403.11\n",
            "BOSCH pvt limited 16095.71\n",
            "HDFC bank 1454.4\n",
            "Infosys 1344.64\n",
            "WIPRO 445.21\n",
            "TATA MOTORS 296.37\n",
            "BAJAJ FINANCE 5052.82\n",
            "BOI 51.92\n",
            "BIRLA co-operation 717.66\n",
            "Bharat Petrolium 403.11\n",
            "BOSCH pvt limited 16095.71\n",
            "HDFC bank 1454.4\n",
            "Infosys 1344.64\n",
            "WIPRO 445.21\n",
            "TATA MOTORS 296.37\n",
            "BAJAJ FINANCE 5052.82\n",
            "BOI 51.92\n",
            "BIRLA co-operation 717.66\n",
            "Bharat Petrolium 403.11\n",
            "BOSCH pvt limited 16095.71\n",
            "HDFC bank 1454.4\n",
            "Infosys 1344.64\n",
            "WIPRO 445.21\n",
            "TATA MOTORS 296.37\n",
            "BAJAJ FINANCE 5052.82\n",
            "BOI 51.92\n",
            "BIRLA co-operation 717.66\n",
            "Bharat Petrolium 403.11\n",
            "BOSCH pvt limited 16095.71\n",
            "HDFC bank 1454.4\n",
            "Infosys 1344.64\n",
            "WIPRO 445.21\n",
            "TATA MOTORS 296.37\n",
            "BAJAJ FINANCE 5052.82\n",
            "BOI 51.92\n",
            "BIRLA co-operation 717.66\n",
            "Bharat Petrolium 403.11\n",
            "BOSCH pvt limited 16095.71\n",
            "HDFC bank 1454.4\n",
            "Infosys 1344.64\n",
            "WIPRO 445.21\n",
            "TATA MOTORS 296.37\n",
            "BAJAJ FINANCE 5052.82\n",
            "BOI 51.92\n",
            "BIRLA co-operation 717.66\n",
            "Bharat Petrolium 403.11\n",
            "BOSCH pvt limited 16095.71\n",
            "HDFC bank 1454.4\n",
            "Infosys 1344.64\n",
            "WIPRO 445.21\n",
            "TATA MOTORS 296.37\n",
            "BAJAJ FINANCE 5052.82\n",
            "BOI 51.92\n",
            "BIRLA co-operation 717.66\n",
            "Bharat Petrolium 403.11\n",
            "BOSCH pvt limited 16095.71\n",
            "HDFC bank 1454.4\n",
            "Infosys 1344.64\n",
            "WIPRO 445.21\n",
            "TATA MOTORS 296.37\n",
            "BAJAJ FINANCE 5052.82\n",
            "BOI 51.92\n",
            "BIRLA co-operation 717.66\n",
            "Bharat Petrolium 403.11\n",
            "BOSCH pvt limited 16095.71\n",
            "HDFC bank 1454.4\n",
            "Infosys 1344.64\n",
            "WIPRO 445.21\n",
            "TATA MOTORS 296.37\n",
            "BAJAJ FINANCE 5052.82\n",
            "BOI 51.92\n",
            "BIRLA co-operation 717.66\n",
            "Bharat Petrolium 403.11\n",
            "BOSCH pvt limited 16095.71\n",
            "HDFC bank 1454.4\n",
            "Infosys 1344.64\n",
            "WIPRO 445.21\n",
            "TATA MOTORS 296.37\n",
            "BAJAJ FINANCE 5052.82\n",
            "BOI 51.92\n",
            "BIRLA co-operation 717.66\n",
            "Bharat Petrolium 403.11\n",
            "BOSCH pvt limited 16095.71\n",
            "HDFC bank 1454.4\n",
            "Infosys 1344.64\n",
            "WIPRO 445.21\n",
            "TATA MOTORS 296.37\n",
            "BAJAJ FINANCE 5052.82\n",
            "BOI 51.92\n",
            "BIRLA co-operation 717.66\n",
            "Bharat Petrolium 403.11\n",
            "BOSCH pvt limited 16095.71\n",
            "HDFC bank 1454.4\n"
          ]
        },
        {
          "ename": "KeyboardInterrupt",
          "evalue": "",
          "output_type": "error",
          "traceback": [
            "\u001b[1;31m---------------------------------------------------------------------------\u001b[0m",
            "\u001b[1;31mKeyboardInterrupt\u001b[0m                         Traceback (most recent call last)",
            "\u001b[1;32m<ipython-input-7-89eb6bbe782f>\u001b[0m in \u001b[0;36m<module>\u001b[1;34m\u001b[0m\n\u001b[0;32m     45\u001b[0m \u001b[1;33m\u001b[0m\u001b[0m\n\u001b[0;32m     46\u001b[0m         \u001b[0mprocessing_loop\u001b[0m\u001b[1;33m(\u001b[0m\u001b[0mcsvfile\u001b[0m\u001b[1;33m)\u001b[0m\u001b[1;33m\u001b[0m\u001b[1;33m\u001b[0m\u001b[0m\n\u001b[1;32m---> 47\u001b[1;33m         \u001b[0mtime\u001b[0m\u001b[1;33m.\u001b[0m\u001b[0msleep\u001b[0m\u001b[1;33m(\u001b[0m\u001b[1;36m3\u001b[0m\u001b[1;33m)\u001b[0m\u001b[1;33m\u001b[0m\u001b[1;33m\u001b[0m\u001b[0m\n\u001b[0m",
            "\u001b[1;31mKeyboardInterrupt\u001b[0m: "
          ]
        }
      ]
    },
    {
      "cell_type": "code",
      "metadata": {
        "id": "lBbq5jbYLv1f"
      },
      "source": [
        ""
      ],
      "execution_count": null,
      "outputs": []
    },
    {
      "cell_type": "code",
      "metadata": {
        "id": "kEkXiDKuLv1h"
      },
      "source": [
        ""
      ],
      "execution_count": null,
      "outputs": []
    },
    {
      "cell_type": "code",
      "metadata": {
        "id": "62WqQolfLv1h"
      },
      "source": [
        ""
      ],
      "execution_count": null,
      "outputs": []
    }
  ]
}